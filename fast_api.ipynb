{
  "cells": [
    {
      "cell_type": "markdown",
      "metadata": {
        "id": "view-in-github",
        "colab_type": "text"
      },
      "source": [
        "<a href=\"https://colab.research.google.com/github/MarinaSupiot/projet_7/blob/main/fast_api.ipynb\" target=\"_parent\"><img src=\"https://colab.research.google.com/assets/colab-badge.svg\" alt=\"Open In Colab\"/></a>"
      ]
    },
    {
      "cell_type": "code",
      "execution_count": 104,
      "metadata": {
        "colab": {
          "base_uri": "https://localhost:8080/"
        },
        "id": "P_PQPaMJt7ML",
        "outputId": "23ba88ac-b338-4a31-b221-b5a434fdf85f"
      },
      "outputs": [
        {
          "output_type": "stream",
          "name": "stdout",
          "text": [
            "Requirement already satisfied: fastapi in /usr/local/lib/python3.10/dist-packages (0.105.0)\n",
            "Requirement already satisfied: anyio<4.0.0,>=3.7.1 in /usr/local/lib/python3.10/dist-packages (from fastapi) (3.7.1)\n",
            "Requirement already satisfied: pydantic!=1.8,!=1.8.1,!=2.0.0,!=2.0.1,!=2.1.0,<3.0.0,>=1.7.4 in /usr/local/lib/python3.10/dist-packages (from fastapi) (1.10.13)\n",
            "Requirement already satisfied: starlette<0.28.0,>=0.27.0 in /usr/local/lib/python3.10/dist-packages (from fastapi) (0.27.0)\n",
            "Requirement already satisfied: typing-extensions>=4.8.0 in /usr/local/lib/python3.10/dist-packages (from fastapi) (4.9.0)\n",
            "Requirement already satisfied: idna>=2.8 in /usr/local/lib/python3.10/dist-packages (from anyio<4.0.0,>=3.7.1->fastapi) (3.6)\n",
            "Requirement already satisfied: sniffio>=1.1 in /usr/local/lib/python3.10/dist-packages (from anyio<4.0.0,>=3.7.1->fastapi) (1.3.0)\n",
            "Requirement already satisfied: exceptiongroup in /usr/local/lib/python3.10/dist-packages (from anyio<4.0.0,>=3.7.1->fastapi) (1.2.0)\n"
          ]
        }
      ],
      "source": [
        "!pip install fastapi\n"
      ]
    },
    {
      "cell_type": "code",
      "execution_count": 105,
      "metadata": {
        "colab": {
          "base_uri": "https://localhost:8080/"
        },
        "id": "ti-P1rCkxBsw",
        "outputId": "c313755e-88aa-4e09-9cce-b59c037139a5"
      },
      "outputs": [
        {
          "output_type": "stream",
          "name": "stdout",
          "text": [
            "Requirement already satisfied: uvicorn in /usr/local/lib/python3.10/dist-packages (0.25.0)\n",
            "Requirement already satisfied: click>=7.0 in /usr/local/lib/python3.10/dist-packages (from uvicorn) (8.1.7)\n",
            "Requirement already satisfied: h11>=0.8 in /usr/local/lib/python3.10/dist-packages (from uvicorn) (0.14.0)\n",
            "Requirement already satisfied: typing-extensions>=4.0 in /usr/local/lib/python3.10/dist-packages (from uvicorn) (4.9.0)\n"
          ]
        }
      ],
      "source": [
        "!pip install uvicorn"
      ]
    },
    {
      "cell_type": "code",
      "execution_count": 197,
      "metadata": {
        "id": "jkNQkxScuX7N"
      },
      "outputs": [],
      "source": [
        "from fastapi import FastAPI\n",
        "\n",
        "\n",
        "app = FastAPI()\n",
        "\n",
        "@app.get(\"/load_data_and_model\")\n",
        "def read_root():\n",
        "    return {\"Hello\": \"World\"}\n"
      ]
    },
    {
      "cell_type": "code",
      "source": [],
      "metadata": {
        "id": "iO-qZPSkBpoQ"
      },
      "execution_count": null,
      "outputs": []
    },
    {
      "cell_type": "code",
      "source": [
        "%%writefile myapp.py\n",
        "from fastapi import FastAPI, Depends\n",
        "from fastapi.responses import JSONResponse\n",
        "import pandas as pd\n",
        "import pickle\n",
        "import joblib\n",
        "\n",
        "app = FastAPI()\n",
        "\n",
        "def load_data():\n",
        "    try:\n",
        "        df_test = pd.read_csv(\"/content/drive/MyDrive/Projet 7/test_preprocess_reduit.csv\")\n",
        "        return df_test\n",
        "    except Exception as e:\n",
        "        raise ValueError(f\"Error loading DataFrame: {str(e)}\")\n",
        "\n",
        "def load_model():\n",
        "    try:\n",
        "        with open('/content/drive/MyDrive/Projet 7/model_su04.pkl', 'rb') as file:\n",
        "            model = joblib.load(file)\n",
        "        return model\n",
        "    except Exception as e:\n",
        "        raise ValueError(f\"Error loading model: {str(e)}\")\n",
        "\n",
        "@app.get(\"/load_data_and_model\")\n",
        "def load_data_and_model(df_test: pd.DataFrame = Depends(load_data), model: any = Depends(load_model)):\n",
        "    try:\n",
        "        # Perform necessary operations with df_test and model\n",
        "\n",
        "        return JSONResponse(content={\"df_test\": df_test.to_dict(orient=\"split\"), \"model\": str(model), \"success\": True})\n",
        "    except Exception as e:\n",
        "        return JSONResponse(content={\"error\": str(e)}, status_code=500)\n",
        "\n",
        "\n",
        "\n"
      ],
      "metadata": {
        "colab": {
          "base_uri": "https://localhost:8080/"
        },
        "id": "1EWafWuIxIJE",
        "outputId": "adea0c54-05fe-467f-fadb-24729cf30549"
      },
      "execution_count": 270,
      "outputs": [
        {
          "output_type": "stream",
          "name": "stdout",
          "text": [
            "Overwriting myapp.py\n"
          ]
        }
      ]
    },
    {
      "cell_type": "code",
      "execution_count": 271,
      "metadata": {
        "id": "TFBy7fS9y_vM"
      },
      "outputs": [],
      "source": [
        "%run myapp.py"
      ]
    },
    {
      "cell_type": "code",
      "source": [
        "!pip install ngrok\n"
      ],
      "metadata": {
        "colab": {
          "base_uri": "https://localhost:8080/"
        },
        "id": "k55d_ys6tXvK",
        "outputId": "c593e487-1a9a-45d8-93e9-71888c9b1d42"
      },
      "execution_count": 241,
      "outputs": [
        {
          "output_type": "stream",
          "name": "stdout",
          "text": [
            "Requirement already satisfied: ngrok in /usr/local/lib/python3.10/dist-packages (0.12.1)\n"
          ]
        }
      ]
    },
    {
      "cell_type": "code",
      "execution_count": 272,
      "metadata": {
        "colab": {
          "base_uri": "https://localhost:8080/",
          "height": 35
        },
        "id": "4aRIYaXIzEJa",
        "outputId": "a3bc87ab-203f-4ec7-c74f-8ab295bb10bc"
      },
      "outputs": [
        {
          "output_type": "execute_result",
          "data": {
            "text/plain": [
              "'https://c402-34-42-226-84.ngrok-free.app'"
            ],
            "application/vnd.google.colaboratory.intrinsic+json": {
              "type": "string"
            }
          },
          "metadata": {},
          "execution_count": 272
        }
      ],
      "source": [
        "# Set your ngrok authtoken\n",
        "ngrok.set_auth_token(\"2YGm2G54kBEMvnAj43IFcf4QK1O_7kd3J9UnbA4TGcvw9W5Np\")\n",
        "\n",
        "# Open an ngrok tunnel to the FastAPI app\n",
        "ngrok_tunnel = ngrok.connect(8000)\n",
        "public_url = ngrok_tunnel.public_url\n",
        "public_url\n"
      ]
    },
    {
      "cell_type": "code",
      "execution_count": 273,
      "metadata": {
        "colab": {
          "base_uri": "https://localhost:8080/"
        },
        "id": "cSL9v4544B7T",
        "outputId": "d9e28e10-e27c-4037-bf83-f642b499a530"
      },
      "outputs": [
        {
          "output_type": "execute_result",
          "data": {
            "text/plain": [
              "[<NgrokTunnel: \"https://c402-34-42-226-84.ngrok-free.app\" -> \"http://localhost:8000\">]"
            ]
          },
          "metadata": {},
          "execution_count": 273
        }
      ],
      "source": [
        "ngrok.get_tunnels()"
      ]
    },
    {
      "cell_type": "code",
      "execution_count": 274,
      "metadata": {
        "colab": {
          "base_uri": "https://localhost:8080/"
        },
        "id": "GmiigK1178Ko",
        "outputId": "286e372e-0cd9-42ee-9076-e6c59d06f030"
      },
      "outputs": [
        {
          "output_type": "stream",
          "name": "stdout",
          "text": [
            "\u001b[32mINFO\u001b[0m:     Will watch for changes in these directories: ['/content']\n",
            "\u001b[32mINFO\u001b[0m:     Uvicorn running on \u001b[1mhttp://127.0.0.1:8000\u001b[0m (Press CTRL+C to quit)\n",
            "\u001b[32mINFO\u001b[0m:     Started reloader process [\u001b[36m\u001b[1m309107\u001b[0m] using \u001b[36m\u001b[1mStatReload\u001b[0m\n",
            "\u001b[32mINFO\u001b[0m:     Started server process [\u001b[36m309109\u001b[0m]\n",
            "\u001b[32mINFO\u001b[0m:     Waiting for application startup.\n",
            "\u001b[32mINFO\u001b[0m:     Application startup complete.\n",
            "\u001b[32mINFO\u001b[0m:     2001:861:3541:ffc0:8c5d:cb04:7e12:4b35:0 - \"\u001b[1mGET / HTTP/1.1\u001b[0m\" \u001b[31m404 Not Found\u001b[0m\n",
            "\u001b[32mINFO\u001b[0m:     2001:861:3541:ffc0:8c5d:cb04:7e12:4b35:0 - \"\u001b[1mGET /favicon.ico HTTP/1.1\u001b[0m\" \u001b[31m404 Not Found\u001b[0m\n",
            "\u001b[32mINFO\u001b[0m:     2001:861:3541:ffc0:8c5d:cb04:7e12:4b35:0 - \"\u001b[1mGET /%D0%B2ocs HTTP/1.1\u001b[0m\" \u001b[31m404 Not Found\u001b[0m\n",
            "\u001b[32mINFO\u001b[0m:     2001:861:3541:ffc0:8c5d:cb04:7e12:4b35:0 - \"\u001b[1mGET /docs HTTP/1.1\u001b[0m\" \u001b[32m200 OK\u001b[0m\n",
            "\u001b[32mINFO\u001b[0m:     2001:861:3541:ffc0:8c5d:cb04:7e12:4b35:0 - \"\u001b[1mGET /openapi.json HTTP/1.1\u001b[0m\" \u001b[32m200 OK\u001b[0m\n",
            "\u001b[32mINFO\u001b[0m:     2001:861:3541:ffc0:8c5d:cb04:7e12:4b35:0 - \"\u001b[1mGET /load_data_and_model HTTP/1.1\u001b[0m\" \u001b[32m200 OK\u001b[0m\n",
            "\u001b[32mINFO\u001b[0m:     34.73.170.76:0 - \"\u001b[1mGET /load_data_and_model HTTP/1.1\u001b[0m\" \u001b[32m200 OK\u001b[0m\n",
            "\u001b[32mINFO\u001b[0m:     Shutting down\n",
            "\u001b[32mINFO\u001b[0m:     Waiting for application shutdown.\n",
            "\u001b[32mINFO\u001b[0m:     Application shutdown complete.\n",
            "\u001b[32mINFO\u001b[0m:     Finished server process [\u001b[36m309109\u001b[0m]\n",
            "\u001b[32mINFO\u001b[0m:     Stopping reloader process [\u001b[36m\u001b[1m309107\u001b[0m]\n"
          ]
        }
      ],
      "source": [
        "!uvicorn myapp:app --reload\n"
      ]
    }
  ],
  "metadata": {
    "colab": {
      "provenance": [],
      "mount_file_id": "1OkrokEixNphuZuiSdJ2sLK9I_NqTcpia",
      "authorship_tag": "ABX9TyP9g0c6TVUeUTYFVMyFJMxS",
      "include_colab_link": true
    },
    "kernelspec": {
      "display_name": "Python 3",
      "name": "python3"
    },
    "language_info": {
      "name": "python"
    }
  },
  "nbformat": 4,
  "nbformat_minor": 0
}